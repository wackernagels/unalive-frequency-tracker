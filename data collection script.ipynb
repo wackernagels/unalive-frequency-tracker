{
 "cells": [
  {
   "cell_type": "markdown",
   "metadata": {},
   "source": [
    "final project items\n",
    "- descibe the data and a summary of the stats\n",
    "- state the research question, and what exactly we're trying to express with the data\n",
    "- what is the method? why this visual? why is this one chosen?\n",
    "- what's next? what conclusion can be drawn? what comes next for analyzing the data?"
   ]
  },
  {
   "cell_type": "markdown",
   "metadata": {},
   "source": [
    "selenium documentation (for reader reference): \n",
    "* https://selenium-python.readthedocs.io/\n",
    "* https://www.selenium.dev/documentation/\n",
    "\n",
    "proxy list (in case the current proxy ip can't be used): https://free-proxy-list.net/"
   ]
  },
  {
   "cell_type": "code",
   "execution_count": 25,
   "metadata": {},
   "outputs": [],
   "source": [
    "#importing our libraries\n",
    "from selenium import webdriver\n",
    "from selenium.webdriver import ActionChains\n",
    "from selenium.webdriver.common.by import By\n",
    "import time\n",
    "import csv\n",
    "import datetime\n",
    "import json"
   ]
  },
  {
   "cell_type": "code",
   "execution_count": null,
   "metadata": {},
   "outputs": [],
   "source": [
    "#booting up selenium to automate the scraping of reddit\n",
    "\n",
    "#defining proxy ip\n",
    "proxy = \"50.207.199.87\"\n",
    "\n",
    "#defining headless mode (if we want to run this operation without gui)\n",
    "def driversetup(proxy):\n",
    "    options= webdriver.FirefoxOptions()\n",
    "    options.add_argument(\"-headless\")\n",
    "    options.add_argument(f\"--proxy-server={proxy}\")\n",
    "    return webdriver.Firefox(options=options)\n",
    " \n",
    "browser= driversetup(proxy)\n",
    "\n",
    "#defining non-headless mode\n",
    "#browser= webdriver.Firefox()"
   ]
  },
  {
   "cell_type": "code",
   "execution_count": 27,
   "metadata": {},
   "outputs": [],
   "source": [
    "#helper function to open a link to a page\n",
    "def openlink(url):\n",
    "    browser.get(url) #open the url in browser (we will be using firefox)"
   ]
  },
  {
   "cell_type": "code",
   "execution_count": 28,
   "metadata": {},
   "outputs": [],
   "source": [
    "#helper function to get title and body text of post\n",
    "#also get info like time, link, etc which may be helpful\n",
    "\n",
    "def getpostinfo(url, day, keyword):\n",
    "    #opening the link\n",
    "    openlink(url)\n",
    "    time.sleep(5) #wait for page to load\n",
    "    \n",
    "    #get number representing the date\n",
    "    dt= datetime.datetime.fromtimestamp(int(day)+21600).strftime('%Y-%m-%d %H:%M:%S')\n",
    "    data= {'word' : keyword, 'date' : dt}\n",
    "    \n",
    "    #locate the top bar where you can tab between json, raw data, and header\n",
    "    topbar= browser.find_element(By.CSS_SELECTOR, \"ul[class='tabs-menu']\")\n",
    "    rawtab= topbar.find_element(By.CSS_SELECTOR, \"a[id='rawdata-tab']\") #locating rawdata tab\n",
    "    ActionChains(browser).click(rawtab).perform() #click on tab\n",
    "    \n",
    "    #identify the raw data tab\n",
    "    rawdata= browser.find_element(By.CSS_SELECTOR, \"div[id='rawdata-panel']\")\n",
    "    #get the data in text form\n",
    "    posts= rawdata.find_element(By.CSS_SELECTOR, \"pre[class='data']\").text\n",
    "    postdata= json.loads(posts) #convert the string (a dict) into a dict\n",
    "\n",
    "    data.update(postdata) #add data from query into our dictionary\n",
    "    \n",
    "    return data"
   ]
  },
  {
   "cell_type": "code",
   "execution_count": 29,
   "metadata": {},
   "outputs": [],
   "source": [
    "#reddit caps search results at 100, so instead we will separate our query by day and scrape the results\n",
    "#every timestamp in unix must be subtracted by 21600 because we're in central time\n",
    "\n",
    "#defining the day we want to start querying. we will query every day from 1/1/2019 to 1/1/2025\n",
    "firstdayend= datetime.datetime(2019, 1, 1, 0, 0)\n",
    "firstdaystart= datetime.datetime(2018, 12, 31, 0, 0)\n",
    "\n",
    "#adding helper function so we can easily reset the time each time we query\n",
    "def resetfirstend():\n",
    "    return int(time.mktime(firstdayend.timetuple()))-21600\n",
    "\n",
    "def resetfirststart():\n",
    "    return int(time.mktime(firstdaystart.timetuple()))-21600\n"
   ]
  },
  {
   "cell_type": "code",
   "execution_count": 30,
   "metadata": {},
   "outputs": [],
   "source": [
    "#before and after are the variables we use when querying urls\n",
    "before= resetfirstend()\n",
    "after= resetfirststart()\n",
    "\n",
    "#defining the end of our sampling to be 1/1/2025\n",
    "lastdayend= datetime.datetime(2020, 1, 1, 0, 0)\n",
    "end= int(time.mktime(lastdayend.timetuple()))-21600"
   ]
  },
  {
   "cell_type": "code",
   "execution_count": 31,
   "metadata": {},
   "outputs": [
    {
     "data": {
      "text/plain": [
       "'#quick debugging test\\n\\nbefore= 1704585600\\nafter= 1704499200\\nend= 1735689600\\n\\npostdata_unalive= [] #defining empty list for the data\\n\\nurl= f\"https://api.pullpush.io/reddit/search/submission/?q=unalive&subreddit=offmychest&sort=asc&before={before}&after={after}\"\\n\\nscrapedata= getpostinfo(url, after, \"unalive\")\\npostdata_unalive.append(scrapedata)\\nprint(postdata_unalive)'"
      ]
     },
     "execution_count": 31,
     "metadata": {},
     "output_type": "execute_result"
    }
   ],
   "source": [
    "'''#quick debugging test\n",
    "\n",
    "before= 1704585600\n",
    "after= 1704499200\n",
    "end= 1735689600\n",
    "\n",
    "postdata_unalive= [] #defining empty list for the data\n",
    "\n",
    "url= f\"https://api.pullpush.io/reddit/search/submission/?q=unalive&subreddit=offmychest&sort=asc&before={before}&after={after}\"\n",
    "\n",
    "scrapedata= getpostinfo(url, after, \"unalive\")\n",
    "postdata_unalive.append(scrapedata)\n",
    "print(postdata_unalive)'''"
   ]
  },
  {
   "cell_type": "code",
   "execution_count": null,
   "metadata": {},
   "outputs": [
    {
     "ename": "ReadTimeoutError",
     "evalue": "HTTPConnectionPool(host='localhost', port=57012): Read timed out. (read timeout=120)",
     "output_type": "error",
     "traceback": [
      "\u001b[1;31m---------------------------------------------------------------------------\u001b[0m",
      "\u001b[1;31mTimeoutError\u001b[0m                              Traceback (most recent call last)",
      "File \u001b[1;32mc:\\Users\\annas\\scraping-env\\Lib\\site-packages\\urllib3\\connectionpool.py:534\u001b[0m, in \u001b[0;36mHTTPConnectionPool._make_request\u001b[1;34m(self, conn, method, url, body, headers, retries, timeout, chunked, response_conn, preload_content, decode_content, enforce_content_length)\u001b[0m\n\u001b[0;32m    533\u001b[0m \u001b[38;5;28;01mtry\u001b[39;00m:\n\u001b[1;32m--> 534\u001b[0m     response \u001b[38;5;241m=\u001b[39m \u001b[43mconn\u001b[49m\u001b[38;5;241;43m.\u001b[39;49m\u001b[43mgetresponse\u001b[49m\u001b[43m(\u001b[49m\u001b[43m)\u001b[49m\n\u001b[0;32m    535\u001b[0m \u001b[38;5;28;01mexcept\u001b[39;00m (BaseSSLError, \u001b[38;5;167;01mOSError\u001b[39;00m) \u001b[38;5;28;01mas\u001b[39;00m e:\n",
      "File \u001b[1;32mc:\\Users\\annas\\scraping-env\\Lib\\site-packages\\urllib3\\connection.py:516\u001b[0m, in \u001b[0;36mHTTPConnection.getresponse\u001b[1;34m(self)\u001b[0m\n\u001b[0;32m    515\u001b[0m \u001b[38;5;66;03m# Get the response from http.client.HTTPConnection\u001b[39;00m\n\u001b[1;32m--> 516\u001b[0m httplib_response \u001b[38;5;241m=\u001b[39m \u001b[38;5;28;43msuper\u001b[39;49m\u001b[43m(\u001b[49m\u001b[43m)\u001b[49m\u001b[38;5;241;43m.\u001b[39;49m\u001b[43mgetresponse\u001b[49m\u001b[43m(\u001b[49m\u001b[43m)\u001b[49m\n\u001b[0;32m    518\u001b[0m \u001b[38;5;28;01mtry\u001b[39;00m:\n",
      "File \u001b[1;32m~\\AppData\\Local\\Programs\\Python\\Python312\\Lib\\http\\client.py:1428\u001b[0m, in \u001b[0;36mHTTPConnection.getresponse\u001b[1;34m(self)\u001b[0m\n\u001b[0;32m   1427\u001b[0m \u001b[38;5;28;01mtry\u001b[39;00m:\n\u001b[1;32m-> 1428\u001b[0m     \u001b[43mresponse\u001b[49m\u001b[38;5;241;43m.\u001b[39;49m\u001b[43mbegin\u001b[49m\u001b[43m(\u001b[49m\u001b[43m)\u001b[49m\n\u001b[0;32m   1429\u001b[0m \u001b[38;5;28;01mexcept\u001b[39;00m \u001b[38;5;167;01mConnectionError\u001b[39;00m:\n",
      "File \u001b[1;32m~\\AppData\\Local\\Programs\\Python\\Python312\\Lib\\http\\client.py:331\u001b[0m, in \u001b[0;36mHTTPResponse.begin\u001b[1;34m(self)\u001b[0m\n\u001b[0;32m    330\u001b[0m \u001b[38;5;28;01mwhile\u001b[39;00m \u001b[38;5;28;01mTrue\u001b[39;00m:\n\u001b[1;32m--> 331\u001b[0m     version, status, reason \u001b[38;5;241m=\u001b[39m \u001b[38;5;28;43mself\u001b[39;49m\u001b[38;5;241;43m.\u001b[39;49m\u001b[43m_read_status\u001b[49m\u001b[43m(\u001b[49m\u001b[43m)\u001b[49m\n\u001b[0;32m    332\u001b[0m     \u001b[38;5;28;01mif\u001b[39;00m status \u001b[38;5;241m!=\u001b[39m CONTINUE:\n",
      "File \u001b[1;32m~\\AppData\\Local\\Programs\\Python\\Python312\\Lib\\http\\client.py:292\u001b[0m, in \u001b[0;36mHTTPResponse._read_status\u001b[1;34m(self)\u001b[0m\n\u001b[0;32m    291\u001b[0m \u001b[38;5;28;01mdef\u001b[39;00m\u001b[38;5;250m \u001b[39m\u001b[38;5;21m_read_status\u001b[39m(\u001b[38;5;28mself\u001b[39m):\n\u001b[1;32m--> 292\u001b[0m     line \u001b[38;5;241m=\u001b[39m \u001b[38;5;28mstr\u001b[39m(\u001b[38;5;28;43mself\u001b[39;49m\u001b[38;5;241;43m.\u001b[39;49m\u001b[43mfp\u001b[49m\u001b[38;5;241;43m.\u001b[39;49m\u001b[43mreadline\u001b[49m\u001b[43m(\u001b[49m\u001b[43m_MAXLINE\u001b[49m\u001b[43m \u001b[49m\u001b[38;5;241;43m+\u001b[39;49m\u001b[43m \u001b[49m\u001b[38;5;241;43m1\u001b[39;49m\u001b[43m)\u001b[49m, \u001b[38;5;124m\"\u001b[39m\u001b[38;5;124miso-8859-1\u001b[39m\u001b[38;5;124m\"\u001b[39m)\n\u001b[0;32m    293\u001b[0m     \u001b[38;5;28;01mif\u001b[39;00m \u001b[38;5;28mlen\u001b[39m(line) \u001b[38;5;241m>\u001b[39m _MAXLINE:\n",
      "File \u001b[1;32m~\\AppData\\Local\\Programs\\Python\\Python312\\Lib\\socket.py:720\u001b[0m, in \u001b[0;36mSocketIO.readinto\u001b[1;34m(self, b)\u001b[0m\n\u001b[0;32m    719\u001b[0m \u001b[38;5;28;01mtry\u001b[39;00m:\n\u001b[1;32m--> 720\u001b[0m     \u001b[38;5;28;01mreturn\u001b[39;00m \u001b[38;5;28;43mself\u001b[39;49m\u001b[38;5;241;43m.\u001b[39;49m\u001b[43m_sock\u001b[49m\u001b[38;5;241;43m.\u001b[39;49m\u001b[43mrecv_into\u001b[49m\u001b[43m(\u001b[49m\u001b[43mb\u001b[49m\u001b[43m)\u001b[49m\n\u001b[0;32m    721\u001b[0m \u001b[38;5;28;01mexcept\u001b[39;00m timeout:\n",
      "\u001b[1;31mTimeoutError\u001b[0m: timed out",
      "\nThe above exception was the direct cause of the following exception:\n",
      "\u001b[1;31mReadTimeoutError\u001b[0m                          Traceback (most recent call last)",
      "Cell \u001b[1;32mIn[32], line 7\u001b[0m\n\u001b[0;32m      5\u001b[0m \u001b[38;5;28;01mwhile\u001b[39;00m before\u001b[38;5;241m<\u001b[39m\u001b[38;5;241m=\u001b[39mend:\n\u001b[0;32m      6\u001b[0m     url\u001b[38;5;241m=\u001b[39m \u001b[38;5;124mf\u001b[39m\u001b[38;5;124m\"\u001b[39m\u001b[38;5;124mhttps://api.pullpush.io/reddit/search/submission/?q=unalive&subreddit=offmychest&sort=asc&before=\u001b[39m\u001b[38;5;132;01m{\u001b[39;00mbefore\u001b[38;5;132;01m}\u001b[39;00m\u001b[38;5;124m&after=\u001b[39m\u001b[38;5;132;01m{\u001b[39;00mafter\u001b[38;5;132;01m}\u001b[39;00m\u001b[38;5;124m\"\u001b[39m\n\u001b[1;32m----> 7\u001b[0m     scrapedata\u001b[38;5;241m=\u001b[39m \u001b[43mgetpostinfo\u001b[49m\u001b[43m(\u001b[49m\u001b[43murl\u001b[49m\u001b[43m,\u001b[49m\u001b[43m \u001b[49m\u001b[43mafter\u001b[49m\u001b[43m,\u001b[49m\u001b[43m \u001b[49m\u001b[38;5;124;43m\"\u001b[39;49m\u001b[38;5;124;43munalive\u001b[39;49m\u001b[38;5;124;43m\"\u001b[39;49m\u001b[43m)\u001b[49m\n\u001b[0;32m      8\u001b[0m     postdata_unalive\u001b[38;5;241m.\u001b[39mappend(scrapedata)\n\u001b[0;32m     10\u001b[0m     after\u001b[38;5;241m=\u001b[39mbefore\n",
      "Cell \u001b[1;32mIn[28], line 6\u001b[0m, in \u001b[0;36mgetpostinfo\u001b[1;34m(url, day, keyword)\u001b[0m\n\u001b[0;32m      4\u001b[0m \u001b[38;5;28;01mdef\u001b[39;00m\u001b[38;5;250m \u001b[39m\u001b[38;5;21mgetpostinfo\u001b[39m(url, day, keyword):\n\u001b[0;32m      5\u001b[0m     \u001b[38;5;66;03m#opening the link\u001b[39;00m\n\u001b[1;32m----> 6\u001b[0m     \u001b[43mopenlink\u001b[49m\u001b[43m(\u001b[49m\u001b[43murl\u001b[49m\u001b[43m)\u001b[49m\n\u001b[0;32m      7\u001b[0m     time\u001b[38;5;241m.\u001b[39msleep(\u001b[38;5;241m5\u001b[39m) \u001b[38;5;66;03m#wait for page to load\u001b[39;00m\n\u001b[0;32m      9\u001b[0m     \u001b[38;5;66;03m#get number representing the date\u001b[39;00m\n",
      "Cell \u001b[1;32mIn[27], line 3\u001b[0m, in \u001b[0;36mopenlink\u001b[1;34m(url)\u001b[0m\n\u001b[0;32m      2\u001b[0m \u001b[38;5;28;01mdef\u001b[39;00m\u001b[38;5;250m \u001b[39m\u001b[38;5;21mopenlink\u001b[39m(url):\n\u001b[1;32m----> 3\u001b[0m     \u001b[43mbrowser\u001b[49m\u001b[38;5;241;43m.\u001b[39;49m\u001b[43mget\u001b[49m\u001b[43m(\u001b[49m\u001b[43murl\u001b[49m\u001b[43m)\u001b[49m\n",
      "File \u001b[1;32mc:\\Users\\annas\\scraping-env\\Lib\\site-packages\\selenium\\webdriver\\remote\\webdriver.py:454\u001b[0m, in \u001b[0;36mWebDriver.get\u001b[1;34m(self, url)\u001b[0m\n\u001b[0;32m    436\u001b[0m \u001b[38;5;28;01mdef\u001b[39;00m\u001b[38;5;250m \u001b[39m\u001b[38;5;21mget\u001b[39m(\u001b[38;5;28mself\u001b[39m, url: \u001b[38;5;28mstr\u001b[39m) \u001b[38;5;241m-\u001b[39m\u001b[38;5;241m>\u001b[39m \u001b[38;5;28;01mNone\u001b[39;00m:\n\u001b[0;32m    437\u001b[0m \u001b[38;5;250m    \u001b[39m\u001b[38;5;124;03m\"\"\"Navigate the browser to the specified URL in the current window or\u001b[39;00m\n\u001b[0;32m    438\u001b[0m \u001b[38;5;124;03m    tab.\u001b[39;00m\n\u001b[0;32m    439\u001b[0m \n\u001b[1;32m   (...)\u001b[0m\n\u001b[0;32m    452\u001b[0m \u001b[38;5;124;03m    >>> driver.get(\"https://example.com\")\u001b[39;00m\n\u001b[0;32m    453\u001b[0m \u001b[38;5;124;03m    \"\"\"\u001b[39;00m\n\u001b[1;32m--> 454\u001b[0m     \u001b[38;5;28;43mself\u001b[39;49m\u001b[38;5;241;43m.\u001b[39;49m\u001b[43mexecute\u001b[49m\u001b[43m(\u001b[49m\u001b[43mCommand\u001b[49m\u001b[38;5;241;43m.\u001b[39;49m\u001b[43mGET\u001b[49m\u001b[43m,\u001b[49m\u001b[43m \u001b[49m\u001b[43m{\u001b[49m\u001b[38;5;124;43m\"\u001b[39;49m\u001b[38;5;124;43murl\u001b[39;49m\u001b[38;5;124;43m\"\u001b[39;49m\u001b[43m:\u001b[49m\u001b[43m \u001b[49m\u001b[43murl\u001b[49m\u001b[43m}\u001b[49m\u001b[43m)\u001b[49m\n",
      "File \u001b[1;32mc:\\Users\\annas\\scraping-env\\Lib\\site-packages\\selenium\\webdriver\\remote\\webdriver.py:427\u001b[0m, in \u001b[0;36mWebDriver.execute\u001b[1;34m(self, driver_command, params)\u001b[0m\n\u001b[0;32m    424\u001b[0m     \u001b[38;5;28;01melif\u001b[39;00m \u001b[38;5;124m\"\u001b[39m\u001b[38;5;124msessionId\u001b[39m\u001b[38;5;124m\"\u001b[39m \u001b[38;5;129;01mnot\u001b[39;00m \u001b[38;5;129;01min\u001b[39;00m params:\n\u001b[0;32m    425\u001b[0m         params[\u001b[38;5;124m\"\u001b[39m\u001b[38;5;124msessionId\u001b[39m\u001b[38;5;124m\"\u001b[39m] \u001b[38;5;241m=\u001b[39m \u001b[38;5;28mself\u001b[39m\u001b[38;5;241m.\u001b[39msession_id\n\u001b[1;32m--> 427\u001b[0m response \u001b[38;5;241m=\u001b[39m \u001b[38;5;28;43mself\u001b[39;49m\u001b[38;5;241;43m.\u001b[39;49m\u001b[43mcommand_executor\u001b[49m\u001b[38;5;241;43m.\u001b[39;49m\u001b[43mexecute\u001b[49m\u001b[43m(\u001b[49m\u001b[43mdriver_command\u001b[49m\u001b[43m,\u001b[49m\u001b[43m \u001b[49m\u001b[43mparams\u001b[49m\u001b[43m)\u001b[49m\n\u001b[0;32m    428\u001b[0m \u001b[38;5;28;01mif\u001b[39;00m response:\n\u001b[0;32m    429\u001b[0m     \u001b[38;5;28mself\u001b[39m\u001b[38;5;241m.\u001b[39merror_handler\u001b[38;5;241m.\u001b[39mcheck_response(response)\n",
      "File \u001b[1;32mc:\\Users\\annas\\scraping-env\\Lib\\site-packages\\selenium\\webdriver\\remote\\remote_connection.py:404\u001b[0m, in \u001b[0;36mRemoteConnection.execute\u001b[1;34m(self, command, params)\u001b[0m\n\u001b[0;32m    402\u001b[0m trimmed \u001b[38;5;241m=\u001b[39m \u001b[38;5;28mself\u001b[39m\u001b[38;5;241m.\u001b[39m_trim_large_entries(params)\n\u001b[0;32m    403\u001b[0m LOGGER\u001b[38;5;241m.\u001b[39mdebug(\u001b[38;5;124m\"\u001b[39m\u001b[38;5;132;01m%s\u001b[39;00m\u001b[38;5;124m \u001b[39m\u001b[38;5;132;01m%s\u001b[39;00m\u001b[38;5;124m \u001b[39m\u001b[38;5;132;01m%s\u001b[39;00m\u001b[38;5;124m\"\u001b[39m, command_info[\u001b[38;5;241m0\u001b[39m], url, \u001b[38;5;28mstr\u001b[39m(trimmed))\n\u001b[1;32m--> 404\u001b[0m \u001b[38;5;28;01mreturn\u001b[39;00m \u001b[38;5;28;43mself\u001b[39;49m\u001b[38;5;241;43m.\u001b[39;49m\u001b[43m_request\u001b[49m\u001b[43m(\u001b[49m\u001b[43mcommand_info\u001b[49m\u001b[43m[\u001b[49m\u001b[38;5;241;43m0\u001b[39;49m\u001b[43m]\u001b[49m\u001b[43m,\u001b[49m\u001b[43m \u001b[49m\u001b[43murl\u001b[49m\u001b[43m,\u001b[49m\u001b[43m \u001b[49m\u001b[43mbody\u001b[49m\u001b[38;5;241;43m=\u001b[39;49m\u001b[43mdata\u001b[49m\u001b[43m)\u001b[49m\n",
      "File \u001b[1;32mc:\\Users\\annas\\scraping-env\\Lib\\site-packages\\selenium\\webdriver\\remote\\remote_connection.py:428\u001b[0m, in \u001b[0;36mRemoteConnection._request\u001b[1;34m(self, method, url, body)\u001b[0m\n\u001b[0;32m    425\u001b[0m     body \u001b[38;5;241m=\u001b[39m \u001b[38;5;28;01mNone\u001b[39;00m\n\u001b[0;32m    427\u001b[0m \u001b[38;5;28;01mif\u001b[39;00m \u001b[38;5;28mself\u001b[39m\u001b[38;5;241m.\u001b[39m_client_config\u001b[38;5;241m.\u001b[39mkeep_alive:\n\u001b[1;32m--> 428\u001b[0m     response \u001b[38;5;241m=\u001b[39m \u001b[38;5;28;43mself\u001b[39;49m\u001b[38;5;241;43m.\u001b[39;49m\u001b[43m_conn\u001b[49m\u001b[38;5;241;43m.\u001b[39;49m\u001b[43mrequest\u001b[49m\u001b[43m(\u001b[49m\u001b[43mmethod\u001b[49m\u001b[43m,\u001b[49m\u001b[43m \u001b[49m\u001b[43murl\u001b[49m\u001b[43m,\u001b[49m\u001b[43m \u001b[49m\u001b[43mbody\u001b[49m\u001b[38;5;241;43m=\u001b[39;49m\u001b[43mbody\u001b[49m\u001b[43m,\u001b[49m\u001b[43m \u001b[49m\u001b[43mheaders\u001b[49m\u001b[38;5;241;43m=\u001b[39;49m\u001b[43mheaders\u001b[49m\u001b[43m,\u001b[49m\u001b[43m \u001b[49m\u001b[43mtimeout\u001b[49m\u001b[38;5;241;43m=\u001b[39;49m\u001b[38;5;28;43mself\u001b[39;49m\u001b[38;5;241;43m.\u001b[39;49m\u001b[43m_client_config\u001b[49m\u001b[38;5;241;43m.\u001b[39;49m\u001b[43mtimeout\u001b[49m\u001b[43m)\u001b[49m\n\u001b[0;32m    429\u001b[0m     statuscode \u001b[38;5;241m=\u001b[39m response\u001b[38;5;241m.\u001b[39mstatus\n\u001b[0;32m    430\u001b[0m \u001b[38;5;28;01melse\u001b[39;00m:\n",
      "File \u001b[1;32mc:\\Users\\annas\\scraping-env\\Lib\\site-packages\\urllib3\\_request_methods.py:143\u001b[0m, in \u001b[0;36mRequestMethods.request\u001b[1;34m(self, method, url, body, fields, headers, json, **urlopen_kw)\u001b[0m\n\u001b[0;32m    135\u001b[0m     \u001b[38;5;28;01mreturn\u001b[39;00m \u001b[38;5;28mself\u001b[39m\u001b[38;5;241m.\u001b[39mrequest_encode_url(\n\u001b[0;32m    136\u001b[0m         method,\n\u001b[0;32m    137\u001b[0m         url,\n\u001b[1;32m   (...)\u001b[0m\n\u001b[0;32m    140\u001b[0m         \u001b[38;5;241m*\u001b[39m\u001b[38;5;241m*\u001b[39murlopen_kw,\n\u001b[0;32m    141\u001b[0m     )\n\u001b[0;32m    142\u001b[0m \u001b[38;5;28;01melse\u001b[39;00m:\n\u001b[1;32m--> 143\u001b[0m     \u001b[38;5;28;01mreturn\u001b[39;00m \u001b[38;5;28;43mself\u001b[39;49m\u001b[38;5;241;43m.\u001b[39;49m\u001b[43mrequest_encode_body\u001b[49m\u001b[43m(\u001b[49m\n\u001b[0;32m    144\u001b[0m \u001b[43m        \u001b[49m\u001b[43mmethod\u001b[49m\u001b[43m,\u001b[49m\u001b[43m \u001b[49m\u001b[43murl\u001b[49m\u001b[43m,\u001b[49m\u001b[43m \u001b[49m\u001b[43mfields\u001b[49m\u001b[38;5;241;43m=\u001b[39;49m\u001b[43mfields\u001b[49m\u001b[43m,\u001b[49m\u001b[43m \u001b[49m\u001b[43mheaders\u001b[49m\u001b[38;5;241;43m=\u001b[39;49m\u001b[43mheaders\u001b[49m\u001b[43m,\u001b[49m\u001b[43m \u001b[49m\u001b[38;5;241;43m*\u001b[39;49m\u001b[38;5;241;43m*\u001b[39;49m\u001b[43murlopen_kw\u001b[49m\n\u001b[0;32m    145\u001b[0m \u001b[43m    \u001b[49m\u001b[43m)\u001b[49m\n",
      "File \u001b[1;32mc:\\Users\\annas\\scraping-env\\Lib\\site-packages\\urllib3\\_request_methods.py:278\u001b[0m, in \u001b[0;36mRequestMethods.request_encode_body\u001b[1;34m(self, method, url, fields, headers, encode_multipart, multipart_boundary, **urlopen_kw)\u001b[0m\n\u001b[0;32m    274\u001b[0m     extra_kw[\u001b[38;5;124m\"\u001b[39m\u001b[38;5;124mheaders\u001b[39m\u001b[38;5;124m\"\u001b[39m]\u001b[38;5;241m.\u001b[39msetdefault(\u001b[38;5;124m\"\u001b[39m\u001b[38;5;124mContent-Type\u001b[39m\u001b[38;5;124m\"\u001b[39m, content_type)\n\u001b[0;32m    276\u001b[0m extra_kw\u001b[38;5;241m.\u001b[39mupdate(urlopen_kw)\n\u001b[1;32m--> 278\u001b[0m \u001b[38;5;28;01mreturn\u001b[39;00m \u001b[38;5;28;43mself\u001b[39;49m\u001b[38;5;241;43m.\u001b[39;49m\u001b[43murlopen\u001b[49m\u001b[43m(\u001b[49m\u001b[43mmethod\u001b[49m\u001b[43m,\u001b[49m\u001b[43m \u001b[49m\u001b[43murl\u001b[49m\u001b[43m,\u001b[49m\u001b[43m \u001b[49m\u001b[38;5;241;43m*\u001b[39;49m\u001b[38;5;241;43m*\u001b[39;49m\u001b[43mextra_kw\u001b[49m\u001b[43m)\u001b[49m\n",
      "File \u001b[1;32mc:\\Users\\annas\\scraping-env\\Lib\\site-packages\\urllib3\\poolmanager.py:443\u001b[0m, in \u001b[0;36mPoolManager.urlopen\u001b[1;34m(self, method, url, redirect, **kw)\u001b[0m\n\u001b[0;32m    441\u001b[0m     response \u001b[38;5;241m=\u001b[39m conn\u001b[38;5;241m.\u001b[39murlopen(method, url, \u001b[38;5;241m*\u001b[39m\u001b[38;5;241m*\u001b[39mkw)\n\u001b[0;32m    442\u001b[0m \u001b[38;5;28;01melse\u001b[39;00m:\n\u001b[1;32m--> 443\u001b[0m     response \u001b[38;5;241m=\u001b[39m \u001b[43mconn\u001b[49m\u001b[38;5;241;43m.\u001b[39;49m\u001b[43murlopen\u001b[49m\u001b[43m(\u001b[49m\u001b[43mmethod\u001b[49m\u001b[43m,\u001b[49m\u001b[43m \u001b[49m\u001b[43mu\u001b[49m\u001b[38;5;241;43m.\u001b[39;49m\u001b[43mrequest_uri\u001b[49m\u001b[43m,\u001b[49m\u001b[43m \u001b[49m\u001b[38;5;241;43m*\u001b[39;49m\u001b[38;5;241;43m*\u001b[39;49m\u001b[43mkw\u001b[49m\u001b[43m)\u001b[49m\n\u001b[0;32m    445\u001b[0m redirect_location \u001b[38;5;241m=\u001b[39m redirect \u001b[38;5;129;01mand\u001b[39;00m response\u001b[38;5;241m.\u001b[39mget_redirect_location()\n\u001b[0;32m    446\u001b[0m \u001b[38;5;28;01mif\u001b[39;00m \u001b[38;5;129;01mnot\u001b[39;00m redirect_location:\n",
      "File \u001b[1;32mc:\\Users\\annas\\scraping-env\\Lib\\site-packages\\urllib3\\connectionpool.py:841\u001b[0m, in \u001b[0;36mHTTPConnectionPool.urlopen\u001b[1;34m(self, method, url, body, headers, retries, redirect, assert_same_host, timeout, pool_timeout, release_conn, chunked, body_pos, preload_content, decode_content, **response_kw)\u001b[0m\n\u001b[0;32m    838\u001b[0m \u001b[38;5;28;01melif\u001b[39;00m \u001b[38;5;28misinstance\u001b[39m(new_e, (\u001b[38;5;167;01mOSError\u001b[39;00m, HTTPException)):\n\u001b[0;32m    839\u001b[0m     new_e \u001b[38;5;241m=\u001b[39m ProtocolError(\u001b[38;5;124m\"\u001b[39m\u001b[38;5;124mConnection aborted.\u001b[39m\u001b[38;5;124m\"\u001b[39m, new_e)\n\u001b[1;32m--> 841\u001b[0m retries \u001b[38;5;241m=\u001b[39m \u001b[43mretries\u001b[49m\u001b[38;5;241;43m.\u001b[39;49m\u001b[43mincrement\u001b[49m\u001b[43m(\u001b[49m\n\u001b[0;32m    842\u001b[0m \u001b[43m    \u001b[49m\u001b[43mmethod\u001b[49m\u001b[43m,\u001b[49m\u001b[43m \u001b[49m\u001b[43murl\u001b[49m\u001b[43m,\u001b[49m\u001b[43m \u001b[49m\u001b[43merror\u001b[49m\u001b[38;5;241;43m=\u001b[39;49m\u001b[43mnew_e\u001b[49m\u001b[43m,\u001b[49m\u001b[43m \u001b[49m\u001b[43m_pool\u001b[49m\u001b[38;5;241;43m=\u001b[39;49m\u001b[38;5;28;43mself\u001b[39;49m\u001b[43m,\u001b[49m\u001b[43m \u001b[49m\u001b[43m_stacktrace\u001b[49m\u001b[38;5;241;43m=\u001b[39;49m\u001b[43msys\u001b[49m\u001b[38;5;241;43m.\u001b[39;49m\u001b[43mexc_info\u001b[49m\u001b[43m(\u001b[49m\u001b[43m)\u001b[49m\u001b[43m[\u001b[49m\u001b[38;5;241;43m2\u001b[39;49m\u001b[43m]\u001b[49m\n\u001b[0;32m    843\u001b[0m \u001b[43m\u001b[49m\u001b[43m)\u001b[49m\n\u001b[0;32m    844\u001b[0m retries\u001b[38;5;241m.\u001b[39msleep()\n\u001b[0;32m    846\u001b[0m \u001b[38;5;66;03m# Keep track of the error for the retry warning.\u001b[39;00m\n",
      "File \u001b[1;32mc:\\Users\\annas\\scraping-env\\Lib\\site-packages\\urllib3\\util\\retry.py:474\u001b[0m, in \u001b[0;36mRetry.increment\u001b[1;34m(self, method, url, response, error, _pool, _stacktrace)\u001b[0m\n\u001b[0;32m    471\u001b[0m \u001b[38;5;28;01melif\u001b[39;00m error \u001b[38;5;129;01mand\u001b[39;00m \u001b[38;5;28mself\u001b[39m\u001b[38;5;241m.\u001b[39m_is_read_error(error):\n\u001b[0;32m    472\u001b[0m     \u001b[38;5;66;03m# Read retry?\u001b[39;00m\n\u001b[0;32m    473\u001b[0m     \u001b[38;5;28;01mif\u001b[39;00m read \u001b[38;5;129;01mis\u001b[39;00m \u001b[38;5;28;01mFalse\u001b[39;00m \u001b[38;5;129;01mor\u001b[39;00m method \u001b[38;5;129;01mis\u001b[39;00m \u001b[38;5;28;01mNone\u001b[39;00m \u001b[38;5;129;01mor\u001b[39;00m \u001b[38;5;129;01mnot\u001b[39;00m \u001b[38;5;28mself\u001b[39m\u001b[38;5;241m.\u001b[39m_is_method_retryable(method):\n\u001b[1;32m--> 474\u001b[0m         \u001b[38;5;28;01mraise\u001b[39;00m \u001b[43mreraise\u001b[49m\u001b[43m(\u001b[49m\u001b[38;5;28;43mtype\u001b[39;49m\u001b[43m(\u001b[49m\u001b[43merror\u001b[49m\u001b[43m)\u001b[49m\u001b[43m,\u001b[49m\u001b[43m \u001b[49m\u001b[43merror\u001b[49m\u001b[43m,\u001b[49m\u001b[43m \u001b[49m\u001b[43m_stacktrace\u001b[49m\u001b[43m)\u001b[49m\n\u001b[0;32m    475\u001b[0m     \u001b[38;5;28;01melif\u001b[39;00m read \u001b[38;5;129;01mis\u001b[39;00m \u001b[38;5;129;01mnot\u001b[39;00m \u001b[38;5;28;01mNone\u001b[39;00m:\n\u001b[0;32m    476\u001b[0m         read \u001b[38;5;241m-\u001b[39m\u001b[38;5;241m=\u001b[39m \u001b[38;5;241m1\u001b[39m\n",
      "File \u001b[1;32mc:\\Users\\annas\\scraping-env\\Lib\\site-packages\\urllib3\\util\\util.py:39\u001b[0m, in \u001b[0;36mreraise\u001b[1;34m(tp, value, tb)\u001b[0m\n\u001b[0;32m     37\u001b[0m     \u001b[38;5;28;01mif\u001b[39;00m value\u001b[38;5;241m.\u001b[39m__traceback__ \u001b[38;5;129;01mis\u001b[39;00m \u001b[38;5;129;01mnot\u001b[39;00m tb:\n\u001b[0;32m     38\u001b[0m         \u001b[38;5;28;01mraise\u001b[39;00m value\u001b[38;5;241m.\u001b[39mwith_traceback(tb)\n\u001b[1;32m---> 39\u001b[0m     \u001b[38;5;28;01mraise\u001b[39;00m value\n\u001b[0;32m     40\u001b[0m \u001b[38;5;28;01mfinally\u001b[39;00m:\n\u001b[0;32m     41\u001b[0m     value \u001b[38;5;241m=\u001b[39m \u001b[38;5;28;01mNone\u001b[39;00m  \u001b[38;5;66;03m# type: ignore[assignment]\u001b[39;00m\n",
      "File \u001b[1;32mc:\\Users\\annas\\scraping-env\\Lib\\site-packages\\urllib3\\connectionpool.py:787\u001b[0m, in \u001b[0;36mHTTPConnectionPool.urlopen\u001b[1;34m(self, method, url, body, headers, retries, redirect, assert_same_host, timeout, pool_timeout, release_conn, chunked, body_pos, preload_content, decode_content, **response_kw)\u001b[0m\n\u001b[0;32m    784\u001b[0m response_conn \u001b[38;5;241m=\u001b[39m conn \u001b[38;5;28;01mif\u001b[39;00m \u001b[38;5;129;01mnot\u001b[39;00m release_conn \u001b[38;5;28;01melse\u001b[39;00m \u001b[38;5;28;01mNone\u001b[39;00m\n\u001b[0;32m    786\u001b[0m \u001b[38;5;66;03m# Make the request on the HTTPConnection object\u001b[39;00m\n\u001b[1;32m--> 787\u001b[0m response \u001b[38;5;241m=\u001b[39m \u001b[38;5;28;43mself\u001b[39;49m\u001b[38;5;241;43m.\u001b[39;49m\u001b[43m_make_request\u001b[49m\u001b[43m(\u001b[49m\n\u001b[0;32m    788\u001b[0m \u001b[43m    \u001b[49m\u001b[43mconn\u001b[49m\u001b[43m,\u001b[49m\n\u001b[0;32m    789\u001b[0m \u001b[43m    \u001b[49m\u001b[43mmethod\u001b[49m\u001b[43m,\u001b[49m\n\u001b[0;32m    790\u001b[0m \u001b[43m    \u001b[49m\u001b[43murl\u001b[49m\u001b[43m,\u001b[49m\n\u001b[0;32m    791\u001b[0m \u001b[43m    \u001b[49m\u001b[43mtimeout\u001b[49m\u001b[38;5;241;43m=\u001b[39;49m\u001b[43mtimeout_obj\u001b[49m\u001b[43m,\u001b[49m\n\u001b[0;32m    792\u001b[0m \u001b[43m    \u001b[49m\u001b[43mbody\u001b[49m\u001b[38;5;241;43m=\u001b[39;49m\u001b[43mbody\u001b[49m\u001b[43m,\u001b[49m\n\u001b[0;32m    793\u001b[0m \u001b[43m    \u001b[49m\u001b[43mheaders\u001b[49m\u001b[38;5;241;43m=\u001b[39;49m\u001b[43mheaders\u001b[49m\u001b[43m,\u001b[49m\n\u001b[0;32m    794\u001b[0m \u001b[43m    \u001b[49m\u001b[43mchunked\u001b[49m\u001b[38;5;241;43m=\u001b[39;49m\u001b[43mchunked\u001b[49m\u001b[43m,\u001b[49m\n\u001b[0;32m    795\u001b[0m \u001b[43m    \u001b[49m\u001b[43mretries\u001b[49m\u001b[38;5;241;43m=\u001b[39;49m\u001b[43mretries\u001b[49m\u001b[43m,\u001b[49m\n\u001b[0;32m    796\u001b[0m \u001b[43m    \u001b[49m\u001b[43mresponse_conn\u001b[49m\u001b[38;5;241;43m=\u001b[39;49m\u001b[43mresponse_conn\u001b[49m\u001b[43m,\u001b[49m\n\u001b[0;32m    797\u001b[0m \u001b[43m    \u001b[49m\u001b[43mpreload_content\u001b[49m\u001b[38;5;241;43m=\u001b[39;49m\u001b[43mpreload_content\u001b[49m\u001b[43m,\u001b[49m\n\u001b[0;32m    798\u001b[0m \u001b[43m    \u001b[49m\u001b[43mdecode_content\u001b[49m\u001b[38;5;241;43m=\u001b[39;49m\u001b[43mdecode_content\u001b[49m\u001b[43m,\u001b[49m\n\u001b[0;32m    799\u001b[0m \u001b[43m    \u001b[49m\u001b[38;5;241;43m*\u001b[39;49m\u001b[38;5;241;43m*\u001b[39;49m\u001b[43mresponse_kw\u001b[49m\u001b[43m,\u001b[49m\n\u001b[0;32m    800\u001b[0m \u001b[43m\u001b[49m\u001b[43m)\u001b[49m\n\u001b[0;32m    802\u001b[0m \u001b[38;5;66;03m# Everything went great!\u001b[39;00m\n\u001b[0;32m    803\u001b[0m clean_exit \u001b[38;5;241m=\u001b[39m \u001b[38;5;28;01mTrue\u001b[39;00m\n",
      "File \u001b[1;32mc:\\Users\\annas\\scraping-env\\Lib\\site-packages\\urllib3\\connectionpool.py:536\u001b[0m, in \u001b[0;36mHTTPConnectionPool._make_request\u001b[1;34m(self, conn, method, url, body, headers, retries, timeout, chunked, response_conn, preload_content, decode_content, enforce_content_length)\u001b[0m\n\u001b[0;32m    534\u001b[0m     response \u001b[38;5;241m=\u001b[39m conn\u001b[38;5;241m.\u001b[39mgetresponse()\n\u001b[0;32m    535\u001b[0m \u001b[38;5;28;01mexcept\u001b[39;00m (BaseSSLError, \u001b[38;5;167;01mOSError\u001b[39;00m) \u001b[38;5;28;01mas\u001b[39;00m e:\n\u001b[1;32m--> 536\u001b[0m     \u001b[38;5;28;43mself\u001b[39;49m\u001b[38;5;241;43m.\u001b[39;49m\u001b[43m_raise_timeout\u001b[49m\u001b[43m(\u001b[49m\u001b[43merr\u001b[49m\u001b[38;5;241;43m=\u001b[39;49m\u001b[43me\u001b[49m\u001b[43m,\u001b[49m\u001b[43m \u001b[49m\u001b[43murl\u001b[49m\u001b[38;5;241;43m=\u001b[39;49m\u001b[43murl\u001b[49m\u001b[43m,\u001b[49m\u001b[43m \u001b[49m\u001b[43mtimeout_value\u001b[49m\u001b[38;5;241;43m=\u001b[39;49m\u001b[43mread_timeout\u001b[49m\u001b[43m)\u001b[49m\n\u001b[0;32m    537\u001b[0m     \u001b[38;5;28;01mraise\u001b[39;00m\n\u001b[0;32m    539\u001b[0m \u001b[38;5;66;03m# Set properties that are used by the pooling layer.\u001b[39;00m\n",
      "File \u001b[1;32mc:\\Users\\annas\\scraping-env\\Lib\\site-packages\\urllib3\\connectionpool.py:367\u001b[0m, in \u001b[0;36mHTTPConnectionPool._raise_timeout\u001b[1;34m(self, err, url, timeout_value)\u001b[0m\n\u001b[0;32m    364\u001b[0m \u001b[38;5;250m\u001b[39m\u001b[38;5;124;03m\"\"\"Is the error actually a timeout? Will raise a ReadTimeout or pass\"\"\"\u001b[39;00m\n\u001b[0;32m    366\u001b[0m \u001b[38;5;28;01mif\u001b[39;00m \u001b[38;5;28misinstance\u001b[39m(err, SocketTimeout):\n\u001b[1;32m--> 367\u001b[0m     \u001b[38;5;28;01mraise\u001b[39;00m ReadTimeoutError(\n\u001b[0;32m    368\u001b[0m         \u001b[38;5;28mself\u001b[39m, url, \u001b[38;5;124mf\u001b[39m\u001b[38;5;124m\"\u001b[39m\u001b[38;5;124mRead timed out. (read timeout=\u001b[39m\u001b[38;5;132;01m{\u001b[39;00mtimeout_value\u001b[38;5;132;01m}\u001b[39;00m\u001b[38;5;124m)\u001b[39m\u001b[38;5;124m\"\u001b[39m\n\u001b[0;32m    369\u001b[0m     ) \u001b[38;5;28;01mfrom\u001b[39;00m\u001b[38;5;250m \u001b[39m\u001b[38;5;21;01merr\u001b[39;00m\n\u001b[0;32m    371\u001b[0m \u001b[38;5;66;03m# See the above comment about EAGAIN in Python 3.\u001b[39;00m\n\u001b[0;32m    372\u001b[0m \u001b[38;5;28;01mif\u001b[39;00m \u001b[38;5;28mhasattr\u001b[39m(err, \u001b[38;5;124m\"\u001b[39m\u001b[38;5;124merrno\u001b[39m\u001b[38;5;124m\"\u001b[39m) \u001b[38;5;129;01mand\u001b[39;00m err\u001b[38;5;241m.\u001b[39merrno \u001b[38;5;129;01min\u001b[39;00m _blocking_errnos:\n",
      "\u001b[1;31mReadTimeoutError\u001b[0m: HTTPConnectionPool(host='localhost', port=57012): Read timed out. (read timeout=120)"
     ]
    }
   ],
   "source": [
    "#scraping for 'unalive'\n",
    "postdata_unalive= [] #defining empty list for the data\n",
    "\n",
    "while before<=end:\n",
    "    url= f\"https://api.pullpush.io/reddit/search/submission/?q=unalive&subreddit=offmychest&sort=asc&before={before}&after={after}\"\n",
    "    scrapedata= getpostinfo(url, after, \"unalive\")\n",
    "    postdata_unalive.append(scrapedata)\n",
    "    \n",
    "    after=before\n",
    "    before=before+86400 #each day is incremented by 86400 seconds\n",
    "\n",
    "#reset the start parameters  \n",
    "before= resetfirstend()\n",
    "after= resetfirststart()\n",
    "\n",
    "browser.quit()"
   ]
  },
  {
   "cell_type": "code",
   "execution_count": null,
   "metadata": {},
   "outputs": [
    {
     "data": {
      "text/plain": [
       "'#scraping for \\'kill\\'\\npostdata_kill= [] #defining empty list for the data\\nwhile before<end:\\n    url= f\"https://api.pullpush.io/reddit/search/submission/?q=kill&subreddit=offmychest&sort=asc&before={before}&after={after}\"\\n    scrapedata= getpostinfo(url, after, \"kill\")\\n    postdata_kill.append(scrapedata)\\n    \\n    after=before\\n    before=before+86400 #each day is incremented by 86400 seconds\\n    \\n#reset the start parameters  \\nbefore= resetfirstend()\\nafter= resetfirststart()'"
      ]
     },
     "execution_count": 327,
     "metadata": {},
     "output_type": "execute_result"
    }
   ],
   "source": [
    "browser= driversetup(\"50.202.75.26\")\n",
    "\n",
    "#scraping for 'kill'\n",
    "postdata_kill= [] #defining empty list for the data\n",
    "while before<end:\n",
    "    url= f\"https://api.pullpush.io/reddit/search/submission/?q=kill&subreddit=offmychest&sort=asc&before={before}&after={after}\"\n",
    "    scrapedata= getpostinfo(url, after, \"kill\")\n",
    "    postdata_kill.append(scrapedata)\n",
    "    \n",
    "    after=before\n",
    "    before=before+86400 #each day is incremented by 86400 seconds\n",
    "    \n",
    "#reset the start parameters  \n",
    "before= resetfirstend()\n",
    "after= resetfirststart()\n",
    "\n",
    "browser.quit()"
   ]
  },
  {
   "cell_type": "code",
   "execution_count": null,
   "metadata": {},
   "outputs": [
    {
     "data": {
      "text/plain": [
       "'#scraping for \\'suicide\\'\\npostdata_suicide= [] #defining empty list for the data\\nwhile before<end:\\n    url= f\"https://api.pullpush.io/reddit/search/submission/?q=suicide&subreddit=offmychest&sort=asc&before={before}&after={after}\"\\n    scrapedata= getpostinfo(url, after, \"suicide\")\\n    postdata_suicide.append(scrapedata)\\n    \\n    after=before\\n    before=before+86400 #each day is incremented by 86400 seconds\\n    \\n#reset the start parameters  \\nbefore= resetfirstend()\\nafter= resetfirststart()'"
      ]
     },
     "execution_count": 328,
     "metadata": {},
     "output_type": "execute_result"
    }
   ],
   "source": [
    "browser= driversetup(\"50.232.104.86\")\n",
    "\n",
    "#scraping for 'suicide'\n",
    "postdata_suicide= [] #defining empty list for the data\n",
    "while before<end:\n",
    "    url= f\"https://api.pullpush.io/reddit/search/submission/?q=suicide&subreddit=offmychest&sort=asc&before={before}&after={after}\"\n",
    "    scrapedata= getpostinfo(url, after, \"suicide\")\n",
    "    postdata_suicide.append(scrapedata)\n",
    "    \n",
    "    after=before\n",
    "    before=before+86400 #each day is incremented by 86400 seconds\n",
    "    \n",
    "#reset the start parameters  \n",
    "before= resetfirstend()\n",
    "after= resetfirststart()"
   ]
  },
  {
   "cell_type": "code",
   "execution_count": null,
   "metadata": {},
   "outputs": [],
   "source": [
    "browser.quit()"
   ]
  },
  {
   "cell_type": "code",
   "execution_count": null,
   "metadata": {},
   "outputs": [
    {
     "name": "stdout",
     "output_type": "stream",
     "text": [
      "[{'word': 'unalive', 'date': '2024-01-06 00:00:00', 'data': [{'approved_at_utc': None, 'subreddit': 'offmychest', 'selftext': 'How pretty do I have to become to be rescued by a non black person? Black people have normalized self destruction and abuse it’s so apart of the culture that if you bring it up you are immediately shut down. Ironically I’ve only been treated with racism from other black people. Abused, bullied etc. most have a strong case of crabs in a barrel mentality and will do anything to make you fail. Even unalive you. Anyways I want to be like cinderella and get rescued from this abusive group of people. I get along with non blacks and always have. What can I do to be saved….rescued by a non black people. Please give me advice. Please help. I’m crying out for help.', 'author_fullname': 't2_62947c94', 'saved': False, 'mod_reason_title': None, 'gilded': 0, 'clicked': False, 'title': 'I’d do anything to be rescued from the black community', 'link_flair_richtext': [], 'subreddit_name_prefixed': 'r/offmychest', 'hidden': False, 'pwls': None, 'link_flair_css_class': None, 'downs': 0, 'thumbnail_height': None, 'top_awarded_type': None, 'hide_score': True, 'name': 't3_18zohrf', 'quarantine': False, 'link_flair_text_color': 'dark', 'upvote_ratio': 1.0, 'author_flair_background_color': None, 'subreddit_type': 'public', 'ups': 1, 'total_awards_received': 0, 'media_embed': {}, 'thumbnail_width': None, 'author_flair_template_id': None, 'is_original_content': False, 'user_reports': [], 'secure_media': None, 'is_reddit_media_domain': False, 'is_meta': False, 'category': None, 'secure_media_embed': {}, 'link_flair_text': None, 'can_mod_post': False, 'score': 1, 'approved_by': None, 'is_created_from_ads_ui': False, 'author_premium': False, 'thumbnail': 'self', 'edited': False, 'author_flair_css_class': None, 'author_flair_richtext': [], 'gildings': {}, 'content_categories': None, 'is_self': True, 'mod_note': None, 'created': 1704506582.0, 'link_flair_type': 'text', 'wls': None, 'removed_by_category': None, 'banned_by': None, 'author_flair_type': 'text', 'domain': 'self.offmychest', 'allow_live_comments': False, 'selftext_html': '&lt;!-- SC_OFF --&gt;&lt;div class=\"md\"&gt;&lt;p&gt;How pretty do I have to become to be rescued by a non black person? Black people have normalized self destruction and abuse it’s so apart of the culture that if you bring it up you are immediately shut down. Ironically I’ve only been treated with racism from other black people. Abused, bullied etc. most have a strong case of crabs in a barrel mentality and will do anything to make you fail. Even unalive you. Anyways I want to be like cinderella and get rescued from this abusive group of people. I get along with non blacks and always have. What can I do to be saved….rescued by a non black people. Please give me advice. Please help. I’m crying out for help.&lt;/p&gt;\\n&lt;/div&gt;&lt;!-- SC_ON --&gt;', 'likes': None, 'suggested_sort': None, 'banned_at_utc': None, 'view_count': None, 'archived': False, 'no_follow': True, 'is_crosspostable': False, 'pinned': False, 'over_18': False, 'all_awardings': [], 'awarders': [], 'media_only': False, 'can_gild': False, 'spoiler': False, 'locked': False, 'author_flair_text': None, 'treatment_tags': [], 'visited': False, 'removed_by': None, 'num_reports': None, 'distinguished': None, 'subreddit_id': 't5_2ranw', 'author_is_blocked': False, 'mod_reason_by': None, 'removal_reason': None, 'link_flair_background_color': '', 'id': '18zohrf', 'is_robot_indexable': True, 'report_reasons': None, 'author': 'moonsunrisinggg', 'discussion_type': None, 'num_comments': 0, 'send_replies': True, 'whitelist_status': None, 'contest_mode': False, 'mod_reports': [], 'author_patreon_flair': False, 'author_flair_text_color': None, 'permalink': '/r/offmychest/comments/18zohrf/id_do_anything_to_be_rescued_from_the_black/', 'parent_whitelist_status': None, 'stickied': False, 'url': 'https://www.reddit.com/r/offmychest/comments/18zohrf/id_do_anything_to_be_rescued_from_the_black/', 'subreddit_subscribers': 3163499, 'created_utc': 1704506582.0, 'num_crossposts': 0, 'media': None, 'is_video': False}, {'approved_at_utc': None, 'subreddit': 'offmychest', 'selftext': 'My english grammar is weak so please don\\'t mind. I (22M) and she (22) became good friends when we were doing our graduation. I gradually fell for her and confessed my feelings. At first she rejected me but then after one month she said yes. I was so happy. I felt like my life was complete. I loved her so much. She had a friend, let\\'s call him Josh. He was her good friend and she used to tell me about him that how much of a good friend he is and how much she is comfortable with him. We started our relationship and everything was going fine. One day I was talking to her Via call and she told me that Josh has come to visit her so she will talk to me later. I was hurt and thought why is he so much important. I mean I know he is her friend from school tuitions. Then after 2 hours I called her back. Her voice was very off. So I asked her what happened. After forcing her to tell me what happened she told me that Josh molested her. He touched her everywhere. She was crying and I was fuming with anger. I wanted to crush that guy and kill him. We are Indians so here our parents are overprotective because of that our parents didn\\'t knew about our relationship. So I told her let me talk to Josh and to give me his number. I was raging with anger. But she said \"No don\\'t do it because he is very close to my mon and if you talk to him rudely then he will tell my mom everything about us\". I said I don\\'t care. I just want to slam that guy. But she resisted me from doing that. Then I thought of beating the shit out of that guy by meeting him outside his college but she didn\\'t allow that too. She said if I do any of that then she will break up with me. This was strange but I thought she is scared and that\\'s why she is doing this. She used to crying a lot when we had conversations through Video call. And we couldn\\'t meet because of the pandemic that time. Then one day she said that Josh is saying sorry and he wants to be her friend again. I asked her what did she say, and she said that \" I told him I miss him too\". I was shocked because how can you say anything like that to a person who molested you? The thought of the molester of my gf becoming her friend again was disturbing me deeply. I suffered a lot with my gf that time- be it mentally or physically. So I told her this is out of question. You people will not be friends again. But she started crying and told me no she wants to.I forced her and blackmailed her that if she becomes his friend again then I am going to go and beat the shit out of that jerk. Yes, I have friends and sources who can do that. I have some powers here. But at that time, in front of the person I love, I was feeling like I am powerless. She cried a lot and tried to break things up with me. I mean am I really so unimportant to her? Her molester is more important? Then after sometime my tolerance level was crossed. I couldn\\'t take her bullshit anymore. So I told her that if she doesn\\'t let me talk to Josh right now I am going to tell everything to her mom. That your daughter\\'s friend molested her. She was forced to call Josh by taking me into conference. I told Josh that she told me these things. And Josh was shocked. He said he didn\\'t molest her. She cooperated. She always does. My world just fell down. Since when they were doing this. I was confused and I got to know that they were doing this even before our relationship. But why did she tell me now because he and her went further from kissing this time. Before their fwb thing was only limited to kissing and she was feeling very guilty. I felt like someone just stabbed my heart. She accepted that she did cooperate but she loves me and that\\'s why she told me. I was so angry that I wanted to unalive them. She basically fakely accused Josh of molestation. I was crushed and broken. I still am. I broke everything with her. I became wild. I literally saw the side of me I never imagined. I told her that she doesn\\'t deserve happiness, even dying is an easy punishment for her. She should spit on her herself with shame. I told her many harsh things. But still she begged me for forgiveness. She still does everyday. I love her. I still do but I can never bring her back in my life. I gave her everything. Our sex life was lit. I am really good at that. I always supported her emotionally then why did she do that to me. I don\\'t think I will be able to trust anyone now.', 'author_fullname': 't2_nm1i49m1', 'saved': False, 'mod_reason_title': None, 'gilded': 0, 'clicked': False, 'title': 'My gf with her consent became physically involved with someone but told me that she was molested', 'link_flair_richtext': [], 'subreddit_name_prefixed': 'r/offmychest', 'hidden': False, 'pwls': None, 'link_flair_css_class': None, 'downs': 0, 'thumbnail_height': None, 'top_awarded_type': None, 'hide_score': True, 'name': 't3_19089ih', 'quarantine': False, 'link_flair_text_color': 'dark', 'upvote_ratio': 1.0, 'author_flair_background_color': None, 'subreddit_type': 'public', 'ups': 1, 'total_awards_received': 0, 'media_embed': {}, 'thumbnail_width': None, 'author_flair_template_id': None, 'is_original_content': False, 'user_reports': [], 'secure_media': None, 'is_reddit_media_domain': False, 'is_meta': False, 'category': None, 'secure_media_embed': {}, 'link_flair_text': None, 'can_mod_post': False, 'score': 1, 'approved_by': None, 'is_created_from_ads_ui': False, 'author_premium': False, 'thumbnail': 'nsfw', 'edited': False, 'author_flair_css_class': None, 'author_flair_richtext': [], 'gildings': {}, 'content_categories': None, 'is_self': True, 'mod_note': None, 'created': 1704570289.0, 'link_flair_type': 'text', 'wls': None, 'removed_by_category': None, 'banned_by': None, 'author_flair_type': 'text', 'domain': 'self.offmychest', 'allow_live_comments': False, 'selftext_html': '&lt;!-- SC_OFF --&gt;&lt;div class=\"md\"&gt;&lt;p&gt;My english grammar is weak so please don&amp;#39;t mind. I (22M) and she (22) became good friends when we were doing our graduation. I gradually fell for her and confessed my feelings. At first she rejected me but then after one month she said yes. I was so happy. I felt like my life was complete. I loved her so much. She had a friend, let&amp;#39;s call him Josh. He was her good friend and she used to tell me about him that how much of a good friend he is and how much she is comfortable with him. We started our relationship and everything was going fine. One day I was talking to her Via call and she told me that Josh has come to visit her so she will talk to me later. I was hurt and thought why is he so much important. I mean I know he is her friend from school tuitions. Then after 2 hours I called her back. Her voice was very off. So I asked her what happened. After forcing her to tell me what happened she told me that Josh molested her. He touched her everywhere. She was crying and I was fuming with anger. I wanted to crush that guy and kill him. We are Indians so here our parents are overprotective because of that our parents didn&amp;#39;t knew about our relationship. So I told her let me talk to Josh and to give me his number. I was raging with anger. But she said &amp;quot;No don&amp;#39;t do it because he is very close to my mon and if you talk to him rudely then he will tell my mom everything about us&amp;quot;. I said I don&amp;#39;t care. I just want to slam that guy. But she resisted me from doing that. Then I thought of beating the shit out of that guy by meeting him outside his college but she didn&amp;#39;t allow that too. She said if I do any of that then she will break up with me. This was strange but I thought she is scared and that&amp;#39;s why she is doing this. She used to crying a lot when we had conversations through Video call. And we couldn&amp;#39;t meet because of the pandemic that time. Then one day she said that Josh is saying sorry and he wants to be her friend again. I asked her what did she say, and she said that &amp;quot; I told him I miss him too&amp;quot;. I was shocked because how can you say anything like that to a person who molested you? The thought of the molester of my gf becoming her friend again was disturbing me deeply. I suffered a lot with my gf that time- be it mentally or physically. So I told her this is out of question. You people will not be friends again. But she started crying and told me no she wants to.I forced her and blackmailed her that if she becomes his friend again then I am going to go and beat the shit out of that jerk. Yes, I have friends and sources who can do that. I have some powers here. But at that time, in front of the person I love, I was feeling like I am powerless. She cried a lot and tried to break things up with me. I mean am I really so unimportant to her? Her molester is more important? Then after sometime my tolerance level was crossed. I couldn&amp;#39;t take her bullshit anymore. So I told her that if she doesn&amp;#39;t let me talk to Josh right now I am going to tell everything to her mom. That your daughter&amp;#39;s friend molested her. She was forced to call Josh by taking me into conference. I told Josh that she told me these things. And Josh was shocked. He said he didn&amp;#39;t molest her. She cooperated. She always does. My world just fell down. Since when they were doing this. I was confused and I got to know that they were doing this even before our relationship. But why did she tell me now because he and her went further from kissing this time. Before their fwb thing was only limited to kissing and she was feeling very guilty. I felt like someone just stabbed my heart. She accepted that she did cooperate but she loves me and that&amp;#39;s why she told me. I was so angry that I wanted to unalive them. She basically fakely accused Josh of molestation. I was crushed and broken. I still am. I broke everything with her. I became wild. I literally saw the side of me I never imagined. I told her that she doesn&amp;#39;t deserve happiness, even dying is an easy punishment for her. She should spit on her herself with shame. I told her many harsh things. But still she begged me for forgiveness. She still does everyday. I love her. I still do but I can never bring her back in my life. I gave her everything. Our sex life was lit. I am really good at that. I always supported her emotionally then why did she do that to me. I don&amp;#39;t think I will be able to trust anyone now.&lt;/p&gt;\\n&lt;/div&gt;&lt;!-- SC_ON --&gt;', 'likes': None, 'suggested_sort': None, 'banned_at_utc': None, 'view_count': None, 'archived': False, 'no_follow': False, 'is_crosspostable': False, 'pinned': False, 'over_18': True, 'all_awardings': [], 'awarders': [], 'media_only': False, 'can_gild': False, 'spoiler': False, 'locked': False, 'author_flair_text': None, 'treatment_tags': [], 'visited': False, 'removed_by': None, 'num_reports': None, 'distinguished': None, 'subreddit_id': 't5_2ranw', 'author_is_blocked': False, 'mod_reason_by': None, 'removal_reason': None, 'link_flair_background_color': '', 'id': '19089ih', 'is_robot_indexable': True, 'report_reasons': None, 'author': 'Mean-Ice6911', 'discussion_type': None, 'num_comments': 0, 'send_replies': True, 'whitelist_status': None, 'contest_mode': False, 'mod_reports': [], 'author_patreon_flair': False, 'author_flair_text_color': None, 'permalink': '/r/offmychest/comments/19089ih/my_gf_with_her_consent_became_physically_involved/', 'parent_whitelist_status': None, 'stickied': False, 'url': 'https://www.reddit.com/r/offmychest/comments/19089ih/my_gf_with_her_consent_became_physically_involved/', 'subreddit_subscribers': 3163662, 'created_utc': 1704570289.0, 'num_crossposts': 0, 'media': None, 'is_video': False}], 'metadata': {'op_a': 194, 'op_b': 173, 'total': 371}, 'error': None}]\n"
     ]
    }
   ],
   "source": [
    "#combine our data into a singular list\n",
    "postdata= postdata_unalive+postdata_kill+postdata_suicide\n",
    "\n",
    "#after collecting data, export it into csv format\n",
    "header = [\"word\", \"date\", \"data\", \"metadata\", \"error\"]\n",
    "with open('data.csv', 'w', newline='') as file:\n",
    "    writer = csv.DictWriter(file, fieldnames=header)\n",
    "    writer.writeheader()\n",
    "    writer.writerows(postdata)"
   ]
  }
 ],
 "metadata": {
  "kernelspec": {
   "display_name": "scraping-env",
   "language": "python",
   "name": "python3"
  },
  "language_info": {
   "codemirror_mode": {
    "name": "ipython",
    "version": 3
   },
   "file_extension": ".py",
   "mimetype": "text/x-python",
   "name": "python",
   "nbconvert_exporter": "python",
   "pygments_lexer": "ipython3",
   "version": "3.12.6"
  }
 },
 "nbformat": 4,
 "nbformat_minor": 2
}
