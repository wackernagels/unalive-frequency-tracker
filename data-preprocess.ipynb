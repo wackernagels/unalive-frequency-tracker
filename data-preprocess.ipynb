{
 "cells": [
  {
   "cell_type": "code",
   "execution_count": null,
   "metadata": {},
   "outputs": [],
   "source": [
    "import pandas as pd\n",
    "import datetime as dt\n",
    "import csv\n",
    "import numpy as np"
   ]
  },
  {
   "cell_type": "code",
   "execution_count": 15,
   "metadata": {},
   "outputs": [],
   "source": [
    "#load in our csv files\n",
    "#the location of these files may differ on your own device, so change address accordingly\n",
    "\n",
    "unaliveraw= pd.read_csv(\"./data/unalive_data.csv\")\n",
    "\n",
    "killraw= pd.read_csv(\"./data/kill_data.csv\")\n",
    "\n",
    "murderraw= pd.read_csv(\"./data/murder_data.csv\")\n",
    "\n",
    "suicideraw= pd.read_csv(\"./data/suicide_data.csv\")"
   ]
  },
  {
   "cell_type": "code",
   "execution_count": 16,
   "metadata": {},
   "outputs": [
    {
     "data": {
      "text/html": [
       "<div>\n",
       "<style scoped>\n",
       "    .dataframe tbody tr th:only-of-type {\n",
       "        vertical-align: middle;\n",
       "    }\n",
       "\n",
       "    .dataframe tbody tr th {\n",
       "        vertical-align: top;\n",
       "    }\n",
       "\n",
       "    .dataframe thead th {\n",
       "        text-align: right;\n",
       "    }\n",
       "</style>\n",
       "<table border=\"1\" class=\"dataframe\">\n",
       "  <thead>\n",
       "    <tr style=\"text-align: right;\">\n",
       "      <th></th>\n",
       "      <th>word</th>\n",
       "      <th>date</th>\n",
       "      <th>data</th>\n",
       "      <th>metadata</th>\n",
       "      <th>error</th>\n",
       "    </tr>\n",
       "  </thead>\n",
       "  <tbody>\n",
       "    <tr>\n",
       "      <th>0</th>\n",
       "      <td>unalive</td>\n",
       "      <td>NaN</td>\n",
       "      <td>[]</td>\n",
       "      <td>{'op_a': 5298, 'op_b': 0, 'total': 5304}</td>\n",
       "      <td>NaN</td>\n",
       "    </tr>\n",
       "    <tr>\n",
       "      <th>1</th>\n",
       "      <td>unalive</td>\n",
       "      <td>NaN</td>\n",
       "      <td>[]</td>\n",
       "      <td>{'op_a': 241, 'op_b': 0, 'total': 244}</td>\n",
       "      <td>NaN</td>\n",
       "    </tr>\n",
       "    <tr>\n",
       "      <th>2</th>\n",
       "      <td>unalive</td>\n",
       "      <td>NaN</td>\n",
       "      <td>[]</td>\n",
       "      <td>{'op_a': 283, 'op_b': 0, 'total': 288}</td>\n",
       "      <td>NaN</td>\n",
       "    </tr>\n",
       "    <tr>\n",
       "      <th>3</th>\n",
       "      <td>unalive</td>\n",
       "      <td>NaN</td>\n",
       "      <td>[]</td>\n",
       "      <td>{'op_a': 198, 'op_b': 0, 'total': 201}</td>\n",
       "      <td>NaN</td>\n",
       "    </tr>\n",
       "    <tr>\n",
       "      <th>4</th>\n",
       "      <td>unalive</td>\n",
       "      <td>NaN</td>\n",
       "      <td>[]</td>\n",
       "      <td>{'op_a': 190, 'op_b': 0, 'total': 195}</td>\n",
       "      <td>NaN</td>\n",
       "    </tr>\n",
       "  </tbody>\n",
       "</table>\n",
       "</div>"
      ],
      "text/plain": [
       "      word  date data                                  metadata error\n",
       "0  unalive   NaN   []  {'op_a': 5298, 'op_b': 0, 'total': 5304}   NaN\n",
       "1  unalive   NaN   []    {'op_a': 241, 'op_b': 0, 'total': 244}   NaN\n",
       "2  unalive   NaN   []    {'op_a': 283, 'op_b': 0, 'total': 288}   NaN\n",
       "3  unalive   NaN   []    {'op_a': 198, 'op_b': 0, 'total': 201}   NaN\n",
       "4  unalive   NaN   []    {'op_a': 190, 'op_b': 0, 'total': 195}   NaN"
      ]
     },
     "execution_count": 16,
     "metadata": {},
     "output_type": "execute_result"
    }
   ],
   "source": [
    "unaliveraw.head()"
   ]
  },
  {
   "cell_type": "code",
   "execution_count": 17,
   "metadata": {},
   "outputs": [],
   "source": [
    "#isolating the data we gathered\n",
    "\n",
    "#getting rid of empty entries and unnecessary columns for unalive\n",
    "#dropping all columns except data\n",
    "unaliveraw= unaliveraw.drop(['word', 'date', 'metadata', 'error'], axis= 1) \n",
    "unaliveraw= unaliveraw.replace('nan', np.nan)\n",
    "unaliveraw= unaliveraw.dropna() #dropping nan values\n",
    "unaliveraw= unaliveraw[unaliveraw['data'] != '[]'] #removing empty data entries\n",
    "unaliveraw= unaliveraw.reset_index(drop=True) #resetting index for df\n",
    "\n",
    "#repeating for kill\n",
    "killraw= killraw.drop(['word', 'date', 'metadata', 'error'], axis= 1)\n",
    "killraw= killraw.replace('nan', np.nan)\n",
    "killraw= killraw.dropna()\n",
    "killraw= killraw[killraw['data'] != '[]']\n",
    "killraw= killraw.reset_index(drop=True)\n",
    "\n",
    "#repeating for murder\n",
    "murderraw= murderraw.drop(['word', 'date', 'metadata', 'error'], axis= 1)\n",
    "murderraw= murderraw.replace('nan', np.nan)\n",
    "murderraw= murderraw.dropna()\n",
    "murderraw= murderraw[murderraw['data'] != '[]']\n",
    "murderraw= murderraw.reset_index(drop=True)\n",
    "\n",
    "#repeating for suicide\n",
    "suicideraw= suicideraw.drop(['word', 'date', 'metadata', 'error'], axis= 1)\n",
    "suicideraw= suicideraw.replace('nan', np.nan)\n",
    "suicideraw= suicideraw.dropna()\n",
    "suicideraw= suicideraw[suicideraw['data'] != '[]']\n",
    "suicideraw= suicideraw.reset_index(drop=True)\n"
   ]
  },
  {
   "cell_type": "code",
   "execution_count": 18,
   "metadata": {},
   "outputs": [],
   "source": [
    "#a list of the data we got for unalive\n",
    "#after this point we can access the data to analyze it\n",
    "unalivedata=[]\n",
    "#combining all the dataframe data into one list\n",
    "for index, row in unaliveraw.iterrows():\n",
    "    entry= row['data']\n",
    "    entry= eval(entry)    \n",
    "    unalivedata+=entry\n",
    "    \n",
    "#as usual repeating the process for the other words\n",
    "killdata=[]\n",
    "for index, row in killraw.iterrows():\n",
    "    entry= row['data']\n",
    "    entry= eval(entry)    \n",
    "    killdata+=entry\n",
    "    \n",
    "murderdata=[]\n",
    "for index, row in murderraw.iterrows():\n",
    "    entry= row['data']\n",
    "    entry= eval(entry)    \n",
    "    murderdata+=entry\n",
    "    \n",
    "suicidedata=[]\n",
    "for index, row in suicideraw.iterrows():\n",
    "    entry= row['data']\n",
    "    entry= eval(entry)    \n",
    "    suicidedata+=entry\n"
   ]
  },
  {
   "cell_type": "code",
   "execution_count": 19,
   "metadata": {},
   "outputs": [],
   "source": [
    "#sorting by date, with numbers for each word\n",
    "def collectposts(data):\n",
    "    posts= {}\n",
    "    for item in data:\n",
    "        itemdate= item['created_utc']\n",
    "        text= item['title']+item['selftext']\n",
    "        posts.update({str(itemdate) : text})\n",
    "    return posts"
   ]
  },
  {
   "cell_type": "code",
   "execution_count": 20,
   "metadata": {},
   "outputs": [],
   "source": [
    "#collecting post text by date for each of our words\n",
    "unaliveposts= collectposts(unalivedata)\n",
    "killposts= collectposts(killdata)\n",
    "murderposts= collectposts(murderdata)\n",
    "suicideposts= collectposts(suicidedata)"
   ]
  },
  {
   "cell_type": "code",
   "execution_count": 25,
   "metadata": {},
   "outputs": [],
   "source": [
    "#helper function to determine if two datetimes are on the same day\n",
    "#time1 represents a day within our vis range\n",
    "#time2 represents the timestamp from a post\n",
    "def sameday(time1, time2):\n",
    "    time1= str(time1).split(\" \")[0]\n",
    "    time2= pd.to_datetime(time2, unit='s')\n",
    "    time2= str(time2).split(\" \")[0]\n",
    "    \n",
    "    if time1==time2:\n",
    "        return True\n",
    "    else:\n",
    "        return False"
   ]
  },
  {
   "cell_type": "code",
   "execution_count": 26,
   "metadata": {},
   "outputs": [],
   "source": [
    "#helper function to count the number of posts \n",
    "# there are occuring on a specific day\n",
    "def postcount(posts, date):\n",
    "    count=0\n",
    "    for post in posts:\n",
    "        if sameday(date, post):\n",
    "            count+=1\n",
    "    return count"
   ]
  },
  {
   "cell_type": "code",
   "execution_count": 27,
   "metadata": {},
   "outputs": [],
   "source": [
    "#helper function to consolidate all post text from a\n",
    "# specific day into a list\n",
    "def textcollect(posts, date):\n",
    "    texts= []\n",
    "    for post in posts:\n",
    "        if sameday(date, post):\n",
    "            texts.append(posts[post])\n",
    "    return texts"
   ]
  },
  {
   "cell_type": "code",
   "execution_count": null,
   "metadata": {},
   "outputs": [
    {
     "name": "stderr",
     "output_type": "stream",
     "text": [
      "C:\\Users\\annas\\AppData\\Local\\Temp\\ipykernel_22332\\1491395278.py:6: FutureWarning: The behavior of 'to_datetime' with 'unit' when parsing strings is deprecated. In a future version, strings will be parsed as datetime strings, matching the behavior without a 'unit'. To retain the old behavior, explicitly cast ints or floats to numeric type before calling to_datetime.\n",
      "  time2= pd.to_datetime(time2, unit='s')\n"
     ]
    }
   ],
   "source": [
    "#generate timestamps for every day we are surveying\n",
    "#this will give us the keys for our definitive dataset\n",
    "daterange= pd.date_range(start ='12-31-2018', \n",
    "         end ='1-1-2025', freq ='24h')\n",
    "\n",
    "#initializing our dataset for counting number of posts\n",
    "data_definitive= []\n",
    "\n",
    "#create a list of dictionaries for the data\n",
    "for date in daterange:\n",
    "    #count up the number of posts for each word for each day\n",
    "    unalivecount= postcount(unaliveposts, date)\n",
    "    print('unalive posts counted')\n",
    "    killcount= postcount(killposts, date)\n",
    "    print('kill posts counted')\n",
    "    murdercount= postcount(murderposts, date)\n",
    "    print('murder posts counted')\n",
    "    suicidecount= postcount(suicideposts, date)\n",
    "    print('suicide posts counted')\n",
    "    \n",
    "    #collect together the text from each day for each word\n",
    "    unalivetext= textcollect(unaliveposts, date)\n",
    "    print('unalive texts collected')\n",
    "    killtext= textcollect(killposts, date)\n",
    "    print('kill texts collected')\n",
    "    murdertext= textcollect(murderposts, date)\n",
    "    print('murder texts collected')\n",
    "    suicidetext= textcollect(suicideposts, date)\n",
    "    print('suicide texts collected')\n",
    "    \n",
    "    #compile all the information into a dictionary\n",
    "    dictentry= {'date' : date, \n",
    "                'unalive' : unalivecount, 'unalive_text' : unalivetext, \n",
    "                'kill' : killcount, 'kill_text' : killtext,\n",
    "                'murder' : murdercount, 'murder_text' : murdertext, \n",
    "                'suicide' : suicidecount, 'suicide_text' : suicidetext}\n",
    "    \n",
    "    #add this dictionary to data_definitive\n",
    "    data_definitive.append(dictentry)"
   ]
  },
  {
   "cell_type": "code",
   "execution_count": 33,
   "metadata": {},
   "outputs": [],
   "source": [
    "#export our cleaned data into a csv so we can use it for vis\n",
    "\n",
    "#define our headers (column names)\n",
    "header = [\"date\", \"unalive\", \"unalive_text\", \n",
    "          \"kill\", \"kill_text\", \"murder\", \"murder_text\",\n",
    "          \"suicide\", \"suicide_text\"]\n",
    "\n",
    "#send to csv\n",
    "with open('cleaned_data.csv', 'w', encoding=\"utf-8\", newline='') as file:\n",
    "    writer = csv.DictWriter(file, fieldnames=header)\n",
    "    writer.writeheader()\n",
    "    writer.writerows(data_definitive)"
   ]
  }
 ],
 "metadata": {
  "kernelspec": {
   "display_name": "scraping-env",
   "language": "python",
   "name": "python3"
  },
  "language_info": {
   "codemirror_mode": {
    "name": "ipython",
    "version": 3
   },
   "file_extension": ".py",
   "mimetype": "text/x-python",
   "name": "python",
   "nbconvert_exporter": "python",
   "pygments_lexer": "ipython3",
   "version": "3.12.6"
  }
 },
 "nbformat": 4,
 "nbformat_minor": 2
}
